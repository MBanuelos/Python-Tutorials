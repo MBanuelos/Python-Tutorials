{
 "cells": [
  {
   "cell_type": "markdown",
   "metadata": {},
   "source": [
    "# Introduction to Pandas"
   ]
  },
  {
   "cell_type": "markdown",
   "metadata": {},
   "source": [
    "## Outline\n",
    " - [Data](#data)\n",
    " - [Pandas](#pandas)\n",
    "     - [Series](#series)\n",
    "     - [DataFrames](#dframes)\n",
    "     - [Saving Data](#save)\n",
    "\n",
    "***\n",
    "\n",
    "We will now expand our use of conditional statements by allowing for multiple conditions."
   ]
  },
  {
   "cell_type": "markdown",
   "metadata": {},
   "source": [
    "<b> Reminders: </b> \n",
    "  \n",
    "  1) Use print statements check what your code is doing (or not doing) as you write it\n",
    "  \n",
    "  2) Comment your code!\n",
    "***"
   ]
  },
  {
   "cell_type": "code",
   "execution_count": 1,
   "metadata": {},
   "outputs": [],
   "source": [
    "# load packages\n",
    "import numpy as np\n",
    "import matplotlib.pyplot as plt\n",
    "%matplotlib inline"
   ]
  },
  {
   "cell_type": "markdown",
   "metadata": {},
   "source": [
    "## Data Revisited <a id='data'> </a>"
   ]
  },
  {
   "cell_type": "markdown",
   "metadata": {},
   "source": [
    "<b> Observations vs Predictors. </b>\n",
    "\n",
    "Observations (usually represented by rows) are records of measurements (e.g., the different movies in the Netflix challenge problem).\n",
    "\n",
    "Predictors (usually represented by columns) are typically different variables for which measurements can be taken."
   ]
  },
  {
   "cell_type": "markdown",
   "metadata": {},
   "source": [
    "<b> Quantitative vs Qualitative data. </b>\n",
    "\n",
    "Quantitative data is numerical and defines some measurement. This data can be discrete (as in counting the number of pennies are in your couch) or continuous (as in the temperature outside).\n",
    "\n",
    "Qualitative data is categorical and usually some attribute is assigned to an observation. For example, eye color would be an example of a qualitative observation."
   ]
  },
  {
   "cell_type": "code",
   "execution_count": 29,
   "metadata": {},
   "outputs": [
    {
     "name": "stdout",
     "output_type": "stream",
     "text": [
      "(500,)\n",
      "(500,)\n"
     ]
    }
   ],
   "source": [
    "# Create some data\n",
    "x = np.linspace(0, 10, 500)\n",
    "y = x**2\n",
    "#y2 = np.cumsum(np.random.randn(500))\n",
    "\n",
    "\n",
    "#use help(np.linspace) to find out what it does.\n",
    "# what do these functions do?\n",
    "# what is the shape of x and y?\n",
    "print(x.shape)\n",
    "print(y.shape)"
   ]
  },
  {
   "cell_type": "code",
   "execution_count": 30,
   "metadata": {},
   "outputs": [
    {
     "data": {
      "image/png": "[encoded data removed]",
      "text/plain": [
       "<Figure size 432x288 with 1 Axes>"
      ]
     },
     "metadata": {
      "needs_background": "light"
     },
     "output_type": "display_data"
    }
   ],
   "source": [
    "# let's plot the results\n",
    "plt.plot(x, y)\n",
    "plt.legend('A', loc='upper left');"
   ]
  },
  {
   "cell_type": "code",
   "execution_count": 33,
   "metadata": {},
   "outputs": [
    {
     "data": {
      "image/png": "[encoded data removed]",
      "text/plain": [
       "<Figure size 432x288 with 1 Axes>"
      ]
     },
     "metadata": {
      "needs_background": "light"
     },
     "output_type": "display_data"
    }
   ],
   "source": [
    "# let's plot the results and save the figure\n",
    "# initiate an empty figure\n",
    "fig = plt.figure()\n",
    "# plot my awesome stuff\n",
    "plt.plot(x, y)\n",
    "plt.legend('A', loc='upper left')\n",
    "plt.xlabel('x')\n",
    "plt.ylabel('y')\n",
    "# save the figure\n",
    "fig.savefig('first_fig.pdf')"
   ]
  },
  {
   "cell_type": "markdown",
   "metadata": {},
   "source": [
    "<b> Practice! </b> Plot `x,y2` instead and save the figure. Add axes labels and title"
   ]
  },
  {
   "cell_type": "markdown",
   "metadata": {},
   "source": [
    "## Pandas <a id='pandas'> </a>"
   ]
  },
  {
   "cell_type": "markdown",
   "metadata": {},
   "source": [
    "1) Pandas is package built upon NumPy's interface in which we can create DataFrame objects and begin looking at data. We can import this package as\n",
    "```python\n",
    "import pandas as pd\n",
    "```\n",
    "\n",
    "Let's load the pandas package now"
   ]
  },
  {
   "cell_type": "code",
   "execution_count": 34,
   "metadata": {},
   "outputs": [],
   "source": [
    "import pandas as pd"
   ]
  },
  {
   "cell_type": "markdown",
   "metadata": {},
   "source": [
    "### Series\n",
    "Series are one-dimensional arrays of indexed data. You can also think of this as a generalized version of a NumPy array. You can create a series with the following format\n",
    "```python\n",
    "pd.Series(data, index=index)\n",
    "```"
   ]
  },
  {
   "cell_type": "code",
   "execution_count": 35,
   "metadata": {},
   "outputs": [
    {
     "data": {
      "text/plain": [
       "array([ 0,  1,  2,  3, -2])"
      ]
     },
     "execution_count": 35,
     "metadata": {},
     "output_type": "execute_result"
    }
   ],
   "source": [
    "dat = pd.Series([0,1,2,3,-2])\n",
    "# let's check the values in dat\n",
    "dat.values"
   ]
  },
  {
   "cell_type": "code",
   "execution_count": 36,
   "metadata": {},
   "outputs": [
    {
     "data": {
      "text/plain": [
       "0    0\n",
       "1    1\n",
       "2    2\n",
       "3    3\n",
       "4   -2\n",
       "dtype: int64"
      ]
     },
     "execution_count": 36,
     "metadata": {},
     "output_type": "execute_result"
    }
   ],
   "source": [
    "dat"
   ]
  },
  {
   "cell_type": "code",
   "execution_count": 37,
   "metadata": {},
   "outputs": [
    {
     "data": {
      "text/plain": [
       "RangeIndex(start=0, stop=5, step=1)"
      ]
     },
     "execution_count": 37,
     "metadata": {},
     "output_type": "execute_result"
    }
   ],
   "source": [
    "dat.index"
   ]
  },
  {
   "cell_type": "code",
   "execution_count": 38,
   "metadata": {},
   "outputs": [
    {
     "data": {
      "text/plain": [
       "0    0\n",
       "1    1\n",
       "2    2\n",
       "dtype: int64"
      ]
     },
     "execution_count": 38,
     "metadata": {},
     "output_type": "execute_result"
    }
   ],
   "source": [
    "# we can also access elements in dat\n",
    "#print(dat)\n",
    "dat[0:3]"
   ]
  },
  {
   "cell_type": "markdown",
   "metadata": {},
   "source": [
    "#### Series as dictionaries. \n",
    "\n",
    "<b> Dictionaries </b> are objects in which values are accessed by keys/indices. Keys can be strings or integers.¶"
   ]
  },
  {
   "cell_type": "code",
   "execution_count": 39,
   "metadata": {},
   "outputs": [
    {
     "name": "stdout",
     "output_type": "stream",
     "text": [
      "[0.99 4.99 2.99]\n",
      "Index(['apples', 'cherries', 'grapes'], dtype='object')\n"
     ]
    }
   ],
   "source": [
    "# let's add an index that is more meaningful\n",
    "fruits = pd.Series([0.99, 4.99, 2.99],\n",
    "                   index = ['apples','cherries', 'grapes'])\n",
    "#\n",
    "fruits\n",
    "print(fruits.values)\n",
    "print(fruits.index)"
   ]
  },
  {
   "cell_type": "code",
   "execution_count": 40,
   "metadata": {},
   "outputs": [
    {
     "data": {
      "text/plain": [
       "2.99"
      ]
     },
     "execution_count": 40,
     "metadata": {},
     "output_type": "execute_result"
    }
   ],
   "source": [
    "# Now, we can access fruit prices by using the appropriate index.\n",
    "# Adding indices provides a mapping from a collection of keys \n",
    "# to a collection of values.\n",
    "fruits['grapes']"
   ]
  },
  {
   "cell_type": "code",
   "execution_count": 21,
   "metadata": {},
   "outputs": [
    {
     "data": {
      "text/plain": [
       "apples      0.99\n",
       "cherries    4.99\n",
       "grapes      2.99\n",
       "mangos       NaN\n",
       "dtype: float64"
      ]
     },
     "execution_count": 21,
     "metadata": {},
     "output_type": "execute_result"
    }
   ],
   "source": [
    "# Adding a key with missing information\n",
    "#fruits['mangos'] = None #vs \n",
    "fruits['mangos'] = np.nan\n",
    "# np.nan is not a number\n",
    "fruits"
   ]
  },
  {
   "cell_type": "markdown",
   "metadata": {},
   "source": [
    "<b> Practice! </b> Change the `pd.Series` to the average US cost of a mango. Add another fruit with its average price as well.  "
   ]
  },
  {
   "cell_type": "code",
   "execution_count": 42,
   "metadata": {},
   "outputs": [
    {
     "data": {
      "text/plain": [
       "apples      0.99\n",
       "cherries    4.99\n",
       "grapes      2.99\n",
       "mangos      0.99\n",
       "dtype: float64"
      ]
     },
     "execution_count": 42,
     "metadata": {},
     "output_type": "execute_result"
    }
   ],
   "source": [
    "fruits['mangos'] = 0.99\n",
    "fruits"
   ]
  },
  {
   "cell_type": "markdown",
   "metadata": {},
   "source": [
    "### Data Frames <a id='dframes'> </a>"
   ]
  },
  {
   "cell_type": "markdown",
   "metadata": {},
   "source": [
    "Just as Series are generalized versions of 1-D NumPy arrays, DataFrames are generalized version of 2-dimensional NumPy arrays."
   ]
  },
  {
   "cell_type": "code",
   "execution_count": 47,
   "metadata": {},
   "outputs": [
    {
     "data": {
      "text/plain": [
       "array([[0, 1, 2, 3, 4],\n",
       "       [5, 6, 7, 8, 9]])"
      ]
     },
     "execution_count": 47,
     "metadata": {},
     "output_type": "execute_result"
    }
   ],
   "source": [
    "# 2D NumPy Arrays\n",
    "x = np.arange(0,10)\n",
    "x.reshape(2,5)"
   ]
  },
  {
   "cell_type": "code",
   "execution_count": 49,
   "metadata": {},
   "outputs": [
    {
     "data": {
      "text/plain": [
       "Index(['today', 'tomorrow'], dtype='object')"
      ]
     },
     "execution_count": 49,
     "metadata": {},
     "output_type": "execute_result"
    }
   ],
   "source": [
    "data = pd.DataFrame(np.random.rand(3, 2),\n",
    "             columns=['today', 'tomorrow'])\n",
    "data\n",
    "data.columns"
   ]
  },
  {
   "cell_type": "code",
   "execution_count": 50,
   "metadata": {},
   "outputs": [
    {
     "data": {
      "text/plain": [
       "0    0.169960\n",
       "1    0.865981\n",
       "2    0.215351\n",
       "Name: tomorrow, dtype: float64"
      ]
     },
     "execution_count": 50,
     "metadata": {},
     "output_type": "execute_result"
    }
   ],
   "source": [
    "# How do I access information about the data DataFrame?\n",
    "data['tomorrow']"
   ]
  },
  {
   "cell_type": "code",
   "execution_count": 52,
   "metadata": {},
   "outputs": [
    {
     "data": {
      "text/html": [
       "<div>\n",
       "<style scoped>\n",
       "    .dataframe tbody tr th:only-of-type {\n",
       "        vertical-align: middle;\n",
       "    }\n",
       "\n",
       "    .dataframe tbody tr th {\n",
       "        vertical-align: top;\n",
       "    }\n",
       "\n",
       "    .dataframe thead th {\n",
       "        text-align: right;\n",
       "    }\n",
       "</style>\n",
       "<table border=\"1\" class=\"dataframe\">\n",
       "  <thead>\n",
       "    <tr style=\"text-align: right;\">\n",
       "      <th></th>\n",
       "      <th>today</th>\n",
       "      <th>tomorrow</th>\n",
       "      <th>future</th>\n",
       "    </tr>\n",
       "  </thead>\n",
       "  <tbody>\n",
       "    <tr>\n",
       "      <th>0</th>\n",
       "      <td>0.200801</td>\n",
       "      <td>0.169960</td>\n",
       "      <td>0.185380</td>\n",
       "    </tr>\n",
       "    <tr>\n",
       "      <th>1</th>\n",
       "      <td>0.984043</td>\n",
       "      <td>0.865981</td>\n",
       "      <td>0.925012</td>\n",
       "    </tr>\n",
       "    <tr>\n",
       "      <th>2</th>\n",
       "      <td>0.022053</td>\n",
       "      <td>0.215351</td>\n",
       "      <td>0.118702</td>\n",
       "    </tr>\n",
       "  </tbody>\n",
       "</table>\n",
       "</div>"
      ],
      "text/plain": [
       "      today  tomorrow    future\n",
       "0  0.200801  0.169960  0.185380\n",
       "1  0.984043  0.865981  0.925012\n",
       "2  0.022053  0.215351  0.118702"
      ]
     },
     "execution_count": 52,
     "metadata": {},
     "output_type": "execute_result"
    }
   ],
   "source": [
    "# Adding columns to a DataFrame\n",
    "data['future'] = 0.5*data['tomorrow'] + 0.5*data['today']\n",
    "data\n",
    "#type(data.values)"
   ]
  },
  {
   "cell_type": "code",
   "execution_count": 54,
   "metadata": {},
   "outputs": [
    {
     "data": {
      "text/plain": [
       "CA    37.253\n",
       "LA     4.533\n",
       "MD     5.773\n",
       "TX    25.145\n",
       "Name: pop, dtype: float64"
      ]
     },
     "execution_count": 54,
     "metadata": {},
     "output_type": "execute_result"
    }
   ],
   "source": [
    "# Let's create a DataFrame by first making a few Series objects\n",
    "# here, we create a series by indicating the key and then\n",
    "# the value at the key, 'key':value\n",
    "gas = pd.Series({'CA': 3.700, 'LA': 2.598, 'MD': 2.840, 'TX': 2.701 }) # gas prices/gallon in dollars\n",
    "pop = pd.Series({'CA': 37.253, 'LA': 4.533, 'MD': 5.773, 'TX': 25.145 }) #population (in millions)\n",
    "\n",
    "# create a dataframe by indicating the key, then the value\n",
    "states = pd.DataFrame({'gas':gas, 'pop':pop})\n",
    "states['pop']"
   ]
  },
  {
   "cell_type": "code",
   "execution_count": 55,
   "metadata": {},
   "outputs": [
    {
     "data": {
      "text/html": [
       "<div>\n",
       "<style scoped>\n",
       "    .dataframe tbody tr th:only-of-type {\n",
       "        vertical-align: middle;\n",
       "    }\n",
       "\n",
       "    .dataframe tbody tr th {\n",
       "        vertical-align: top;\n",
       "    }\n",
       "\n",
       "    .dataframe thead th {\n",
       "        text-align: right;\n",
       "    }\n",
       "</style>\n",
       "<table border=\"1\" class=\"dataframe\">\n",
       "  <thead>\n",
       "    <tr style=\"text-align: right;\">\n",
       "      <th></th>\n",
       "      <th>gas</th>\n",
       "      <th>pop</th>\n",
       "    </tr>\n",
       "  </thead>\n",
       "  <tbody>\n",
       "    <tr>\n",
       "      <th>CA</th>\n",
       "      <td>3.700</td>\n",
       "      <td>37.253</td>\n",
       "    </tr>\n",
       "    <tr>\n",
       "      <th>LA</th>\n",
       "      <td>2.598</td>\n",
       "      <td>4.533</td>\n",
       "    </tr>\n",
       "    <tr>\n",
       "      <th>MD</th>\n",
       "      <td>2.840</td>\n",
       "      <td>5.773</td>\n",
       "    </tr>\n",
       "    <tr>\n",
       "      <th>TX</th>\n",
       "      <td>2.701</td>\n",
       "      <td>25.145</td>\n",
       "    </tr>\n",
       "  </tbody>\n",
       "</table>\n",
       "</div>"
      ],
      "text/plain": [
       "      gas     pop\n",
       "CA  3.700  37.253\n",
       "LA  2.598   4.533\n",
       "MD  2.840   5.773\n",
       "TX  2.701  25.145"
      ]
     },
     "execution_count": 55,
     "metadata": {},
     "output_type": "execute_result"
    }
   ],
   "source": [
    "states"
   ]
  },
  {
   "cell_type": "markdown",
   "metadata": {},
   "source": [
    "Indexing values of DataFrames follows a different convention than numpy arrays. They follow the following framework\n",
    "```python\n",
    "data.iloc[x,y] # positional entry\n",
    "data.loc['key1','key2'] # entry using the keys\n",
    "```"
   ]
  },
  {
   "cell_type": "code",
   "execution_count": 26,
   "metadata": {},
   "outputs": [
    {
     "name": "stdout",
     "output_type": "stream",
     "text": [
      "37.253\n",
      "37.253\n"
     ]
    }
   ],
   "source": [
    "# Let's see how that works in the states data\n",
    "print(states.iloc[0,1])\n",
    "print(states.loc['CA','pop'])"
   ]
  },
  {
   "cell_type": "markdown",
   "metadata": {},
   "source": [
    "### Saving Data"
   ]
  },
  {
   "cell_type": "code",
   "execution_count": 56,
   "metadata": {},
   "outputs": [],
   "source": [
    "states.to_csv('states.csv')"
   ]
  },
  {
   "cell_type": "markdown",
   "metadata": {},
   "source": [
    "<b> Practice! </b> \n",
    "\n",
    "1) Come up with two questions with quantitative responses.\n",
    "\n",
    "2) Ask the people in your 'pod' (ask at least 4 people) and record their responses.\n",
    "\n",
    "3) Create data frame with the responses. \n",
    "\n",
    "4) Add your responses to the data frame.\n",
    "\n",
    "5) Create one plot and save both the dataframe (as a csv file) and the plot (as a png). "
   ]
  },
  {
   "cell_type": "code",
   "execution_count": null,
   "metadata": {},
   "outputs": [],
   "source": []
  }
 ],
 "metadata": {
  "kernelspec": {
   "display_name": "Python 3",
   "language": "python",
   "name": "python3"
  },
  "language_info": {
   "codemirror_mode": {
    "name": "ipython",
    "version": 3
   },
   "file_extension": ".py",
   "mimetype": "text/x-python",
   "name": "python",
   "nbconvert_exporter": "python",
   "pygments_lexer": "ipython3",
   "version": "3.7.3"
  }
 },
 "nbformat": 4,
 "nbformat_minor": 2
}
