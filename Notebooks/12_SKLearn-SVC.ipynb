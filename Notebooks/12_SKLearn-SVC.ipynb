{
 "cells": [
  {
   "cell_type": "markdown",
   "metadata": {},
   "source": [
    "# SKLearn and Support Vector Machines"
   ]
  },
  {
   "cell_type": "markdown",
   "metadata": {},
   "source": [
    "## Outline\n",
    " - [Reminders](#reminders)\n",
    " - [Support Vector Machines](#svm)\n",
    "     - [Hinge Loss](#hinge)\n",
    " - [Building a Model](#build)\n",
    " - [Plotting/Interpretation](#plot)\n",
    "\n",
    "***"
   ]
  },
  {
   "cell_type": "code",
   "execution_count": 71,
   "metadata": {},
   "outputs": [],
   "source": [
    "# import packages\n",
    "import numpy as np\n",
    "import matplotlib.pyplot as plt\n",
    "import pandas as pd\n",
    "import seaborn as sns; sns.set()\n",
    "#import sklearn packages\n",
    "from sklearn import datasets\n",
    "from sklearn.model_selection import train_test_split\n",
    "from sklearn import svm\n",
    "from IPython.display import Image\n",
    "from IPython.core.display import HTML "
   ]
  },
  {
   "cell_type": "markdown",
   "metadata": {},
   "source": [
    "## Important Notes/Reminders  <a id='reminders'> </a>\n",
    " - Homework is due 11:59PM on the due date. It is your responsibility to turn it in by that time and not wait until 11:58PM to try to upload it. Per the syllabus, I do not accept late homework.\n",
    " - You need to call `fit` in order to train a new model based on training features (predictors) and targets"
   ]
  },
  {
   "cell_type": "markdown",
   "metadata": {},
   "source": [
    "## Support-Vector Machines  <a id='svm'> </a>"
   ]
  },
  {
   "cell_type": "markdown",
   "metadata": {},
   "source": [
    "A <b> support-vector machine (SVM) </b> is a model that constructs a hyperplane (or set of hyperplanes) to be used for classification or regression problems. There are many hyperplanes that might classify the data. One reasonable choice as the best hyperplane is the one that represents the largest separation,<b> or margin </b>, between the two classes. So we choose the hyperplane so that the distance from it to the nearest data point on each side is maximized. \n",
    "\n",
    "We will introduce these models in the context of classification. As before, let's assume we have a two class ($Y=-1$ or $Y=1$) problem with two predictors, $x_1$ and $x_2$."
   ]
  },
  {
   "cell_type": "markdown",
   "metadata": {},
   "source": [
    "If we wanted to separate the blue from the green points, we assume we have $n$ training points, of the form\n",
    "\n",
    "$$\n",
    "(\\vec{x_1}, y_1), \\ldots, (\\vec{x_n}, y_n),\n",
    "$$\n",
    "\n",
    "Any hyperplane can be written as the set of points $\\vec{x}$ satisfying\n",
    "$$\n",
    "{\\vec {w}}\\cdot {\\vec {x}}-b=0.\n",
    "$$"
   ]
  },
  {
   "cell_type": "code",
   "execution_count": 36,
   "metadata": {},
   "outputs": [
    {
     "data": {
      "text/html": [
       "<img src=\"https://upload.wikimedia.org/wikipedia/commons/7/72/SVM_margin.png\" width=\"350\" height=\"350\"/>"
      ],
      "text/plain": [
       "<IPython.core.display.Image object>"
      ]
     },
     "execution_count": 36,
     "metadata": {},
     "output_type": "execute_result"
    }
   ],
   "source": [
    "Image(url= \"https://upload.wikimedia.org/wikipedia/commons/7/72/SVM_margin.png\", width=350,height=350)"
   ]
  },
  {
   "cell_type": "markdown",
   "metadata": {},
   "source": [
    "Maximum-margin hyperplane and margins for an SVM trained with samples from two classes. Samples on the margin are called the support vectors."
   ]
  },
  {
   "cell_type": "markdown",
   "metadata": {},
   "source": [
    "SVMs can also handle nonlinear decision boundaries by first transforming the features and then constructing a hyperplane separator."
   ]
  },
  {
   "cell_type": "markdown",
   "metadata": {},
   "source": [
    "### Hinge Loss  <a id='hinge'> </a>\n",
    "\n",
    "If the data are not linearly separable, we still want to maximize this distance with a <b> soft-margin </b> using the hinge loss.\n",
    "\n",
    "For an intended output $y = \\pm 1$ and a classifier score $t$, the hinge loss of the prediction $t$ is defined as\n",
    "\n",
    "$$\n",
    "\\ell(t) = \\max(0, 1-y \\cdot t)\n",
    "$$"
   ]
  },
  {
   "cell_type": "markdown",
   "metadata": {},
   "source": [
    "For SVMs, $t = \\vec{w} \\cdot \\vec{x} - b$. "
   ]
  },
  {
   "cell_type": "markdown",
   "metadata": {},
   "source": [
    "<b> Practice! </b> Create 2 plots of the hinge loss (one for when $y = 1$ and one for $y=-1$) for different values of $t$ (let $t$ range from -10 to 10). Comment on what you notice."
   ]
  },
  {
   "cell_type": "code",
   "execution_count": 74,
   "metadata": {},
   "outputs": [],
   "source": [
    "t = np.linspace(-10,10)\n"
   ]
  },
  {
   "cell_type": "markdown",
   "metadata": {},
   "source": [
    "<b> Practice! </b> Generate 3 different examples of simulated data (2 classes, 1000 observations) with $x_1$ and $x_2$ as features that satisfy the following: \n",
    "   - Linear Separation (<b> recreate the image above </b>)\n",
    "   - Nonlinear Separation\n",
    "   - Separation involving a circle\n",
    "   \n",
    "   Save each as a different `pandas` dataframe, plot the 3 examples separately (remember to save them as different variables)"
   ]
  },
  {
   "cell_type": "code",
   "execution_count": null,
   "metadata": {},
   "outputs": [],
   "source": []
  },
  {
   "cell_type": "markdown",
   "metadata": {},
   "source": [
    "## Building a Model  <a id='model'> </a>"
   ]
  },
  {
   "cell_type": "markdown",
   "metadata": {},
   "source": [
    "With all of this in mind, let's build a support-vector classifier model for the digits data set"
   ]
  },
  {
   "cell_type": "code",
   "execution_count": 2,
   "metadata": {},
   "outputs": [],
   "source": [
    "# load digits\n",
    "digits = datasets.load_digits()"
   ]
  },
  {
   "cell_type": "code",
   "execution_count": 25,
   "metadata": {},
   "outputs": [
    {
     "data": {
      "text/plain": [
       "(1797, 64)"
      ]
     },
     "execution_count": 25,
     "metadata": {},
     "output_type": "execute_result"
    }
   ],
   "source": [
    "digits.data.shape"
   ]
  },
  {
   "cell_type": "code",
   "execution_count": 23,
   "metadata": {},
   "outputs": [
    {
     "data": {
      "text/plain": [
       "<matplotlib.image.AxesImage at 0x1a24305320>"
      ]
     },
     "execution_count": 23,
     "metadata": {},
     "output_type": "execute_result"
    },
    {
     "data": {
      "image/png": "[encoded data removed]",
      "text/plain": [
       "<Figure size 432x288 with 1 Axes>"
      ]
     },
     "metadata": {
      "needs_background": "light"
     },
     "output_type": "display_data"
    }
   ],
   "source": [
    "# explore digits data set\n",
    "# we are going to use the features to predict the target\n",
    "plt.imshow(digits.images[33], cmap='Greys')"
   ]
  },
  {
   "cell_type": "code",
   "execution_count": 26,
   "metadata": {},
   "outputs": [],
   "source": [
    "# what are the targets?"
   ]
  },
  {
   "cell_type": "code",
   "execution_count": 41,
   "metadata": {},
   "outputs": [],
   "source": [
    "# creating a training and test split\n",
    "# train_test_split is a function that takes in data, targets, test size, and random state\n",
    "# outputs train features, test feat., train targets, test targets \n",
    "X_train, X_test, y_train, y_test = train_test_split(digits.data, digits.target, test_size=0.33, random_state=42)"
   ]
  },
  {
   "cell_type": "code",
   "execution_count": 66,
   "metadata": {},
   "outputs": [],
   "source": [
    "# build a model (for more than 2 classes)\n",
    "clf = svm.SVC(gamma='scale')"
   ]
  },
  {
   "cell_type": "code",
   "execution_count": 67,
   "metadata": {},
   "outputs": [
    {
     "data": {
      "text/plain": [
       "SVC(C=1.0, cache_size=200, class_weight=None, coef0=0.0,\n",
       "    decision_function_shape='ovr', degree=3, gamma='scale', kernel='rbf',\n",
       "    max_iter=-1, probability=False, random_state=None, shrinking=True,\n",
       "    tol=0.001, verbose=False)"
      ]
     },
     "execution_count": 67,
     "metadata": {},
     "output_type": "execute_result"
    }
   ],
   "source": [
    "# fit the model to training data\n",
    "clf.fit(X_train, y_train)"
   ]
  },
  {
   "cell_type": "code",
   "execution_count": 68,
   "metadata": {},
   "outputs": [
    {
     "data": {
      "text/plain": [
       "0.9865319865319865"
      ]
     },
     "execution_count": 68,
     "metadata": {},
     "output_type": "execute_result"
    }
   ],
   "source": [
    "# predict on test data\n",
    "clf.score(X_test, y_test)"
   ]
  },
  {
   "cell_type": "markdown",
   "metadata": {},
   "source": [
    "<b> Practice! </b> Use SVCs on the data you previously created and note the score for each: \n",
    "   - Linear Separation (<b> recreate the image above </b>)\n",
    "   - Nonlinear Separation\n",
    "   - Separation involving a circle\n",
    "   \n",
    "*Which score was the highest out of the 3?"
   ]
  },
  {
   "cell_type": "code",
   "execution_count": null,
   "metadata": {},
   "outputs": [],
   "source": []
  }
 ],
 "metadata": {
  "kernelspec": {
   "display_name": "Python 3",
   "language": "python",
   "name": "python3"
  },
  "language_info": {
   "codemirror_mode": {
    "name": "ipython",
    "version": 3
   },
   "file_extension": ".py",
   "mimetype": "text/x-python",
   "name": "python",
   "nbconvert_exporter": "python",
   "pygments_lexer": "ipython3",
   "version": "3.7.3"
  }
 },
 "nbformat": 4,
 "nbformat_minor": 2
}
