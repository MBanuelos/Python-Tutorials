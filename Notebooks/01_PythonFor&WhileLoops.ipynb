{
 "cells": [
  {
   "cell_type": "markdown",
   "metadata": {},
   "source": [
    "## For Loops."
   ]
  },
  {
   "cell_type": "code",
   "execution_count": 1,
   "metadata": {},
   "outputs": [],
   "source": [
    "# For-loops.\n",
    "# For-loops have the following structure:\n",
    "# \n",
    "# for i in RANGE:\n",
    "#   complete_action\n",
    "#\n",
    "# i - the counter in a for-loop and can be incorporated into \n",
    "# complete_action\n",
    "#\n",
    "# RANGE - provides a range for the number of times complete_action is run\n",
    "#\n",
    "# complete_action - the code that is to be executed until i (the counter)\n",
    "# reaches the maximum number of times.\n",
    "# \n",
    "# Let's see an example"
   ]
  },
  {
   "cell_type": "code",
   "execution_count": 12,
   "metadata": {},
   "outputs": [
    {
     "name": "stdout",
     "output_type": "stream",
     "text": [
      "0\n",
      "1\n",
      "2\n",
      "3\n"
     ]
    }
   ],
   "source": [
    "# Let us print some numbers on the screen\n",
    "for i in range(0,4):\n",
    "    print(i)"
   ]
  },
  {
   "cell_type": "code",
   "execution_count": 19,
   "metadata": {},
   "outputs": [
    {
     "name": "stdout",
     "output_type": "stream",
     "text": [
      "0\n",
      "hello\n",
      "1\n",
      "hello\n",
      "2\n",
      "hello\n",
      "3\n",
      "hello\n"
     ]
    }
   ],
   "source": [
    "# What is the difference with this loop?\n",
    "for i in range(4):\n",
    "    print(i)\n",
    "    print('hello')"
   ]
  },
  {
   "cell_type": "code",
   "execution_count": 26,
   "metadata": {},
   "outputs": [],
   "source": [
    "a = ['apple', 'banana', 'orange']"
   ]
  },
  {
   "cell_type": "code",
   "execution_count": 27,
   "metadata": {},
   "outputs": [
    {
     "name": "stdout",
     "output_type": "stream",
     "text": [
      "['apple', 'banana', 'orange', 0]\n",
      "['apple', 'banana', 'orange', 0, 1]\n",
      "['apple', 'banana', 'orange', 0, 1, 2]\n"
     ]
    }
   ],
   "source": [
    "# Let us write a for loop that appends a number to a list\n",
    "for i in range(len(a)):\n",
    "    #list.append(a,i)\n",
    "    a.append(i)\n",
    "    print(a)"
   ]
  },
  {
   "cell_type": "code",
   "execution_count": 33,
   "metadata": {},
   "outputs": [
    {
     "data": {
      "text/plain": [
       "int"
      ]
     },
     "execution_count": 33,
     "metadata": {},
     "output_type": "execute_result"
    }
   ],
   "source": [
    "type(a[5])"
   ]
  },
  {
   "cell_type": "markdown",
   "metadata": {},
   "source": [
    "<b> Practice! </b> Create a list of 5 elements (of different types) and write a for loop that prints only the integers of that list."
   ]
  },
  {
   "cell_type": "code",
   "execution_count": 35,
   "metadata": {},
   "outputs": [
    {
     "name": "stdout",
     "output_type": "stream",
     "text": [
      "donuts\n",
      "3.0\n",
      "55\n",
      "22\n",
      "chicken nuggets\n"
     ]
    }
   ],
   "source": [
    "b = ['donuts',3.0, 55, 22, 'chicken nuggets']\n",
    "print(b[0])\n",
    "print(b[1])\n",
    "print(b[2])\n",
    "print(b[3])\n",
    "print(b[4])"
   ]
  },
  {
   "cell_type": "markdown",
   "metadata": {},
   "source": [
    "## While Loops."
   ]
  },
  {
   "cell_type": "code",
   "execution_count": null,
   "metadata": {},
   "outputs": [],
   "source": [
    "# While-loops have the following structure:\n",
    "# \n",
    "# while EXPRESSION:\n",
    "#   complete_action\n",
    "#\n",
    "# EXPRESSION - provides a range (or a condition) \n",
    "# for the number of times complete_action is run\n",
    "#\n",
    "# complete_action - the code that is to be executed until i (the counter)\n",
    "# reaches the maximum number of times.\n",
    "# \n",
    "# Let's see an example"
   ]
  },
  {
   "cell_type": "code",
   "execution_count": 43,
   "metadata": {},
   "outputs": [
    {
     "name": "stdout",
     "output_type": "stream",
     "text": [
      "10\n"
     ]
    }
   ],
   "source": [
    "y = 1\n",
    "while y < 10:\n",
    "    y = y + 1\n",
    "    #y += 1 # this increments y by 1 each time\n",
    "print(y) # What value of y should be printed?"
   ]
  },
  {
   "cell_type": "markdown",
   "metadata": {},
   "source": [
    "<b> Practice! </b> Modify the while loop above so that it never stops!"
   ]
  },
  {
   "cell_type": "code",
   "execution_count": null,
   "metadata": {},
   "outputs": [],
   "source": []
  }
 ],
 "metadata": {
  "kernelspec": {
   "display_name": "Python 3",
   "language": "python",
   "name": "python3"
  },
  "language_info": {
   "codemirror_mode": {
    "name": "ipython",
    "version": 3
   },
   "file_extension": ".py",
   "mimetype": "text/x-python",
   "name": "python",
   "nbconvert_exporter": "python",
   "pygments_lexer": "ipython3",
   "version": "3.7.3"
  }
 },
 "nbformat": 4,
 "nbformat_minor": 2
}
