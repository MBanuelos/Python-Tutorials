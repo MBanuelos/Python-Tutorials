{
 "cells": [
  {
   "cell_type": "markdown",
   "metadata": {},
   "source": [
    "# Classes and Functions"
   ]
  },
  {
   "cell_type": "markdown",
   "metadata": {},
   "source": [
    "## Outline\n",
    " - [Reminders](#reminders)\n",
    " - [Object-Oriented Programming](#oop)\n",
    " - [Str Method](#str)\n",
    " - [Operator Overloading](#opover)\n",
    "\n",
    "***"
   ]
  },
  {
   "cell_type": "code",
   "execution_count": 1,
   "metadata": {},
   "outputs": [],
   "source": [
    "# import packages\n",
    "import numpy as np\n",
    "import matplotlib.pyplot as plt\n",
    "import pandas as pd\n",
    "import seaborn as sns; sns.set()"
   ]
  },
  {
   "cell_type": "markdown",
   "metadata": {},
   "source": [
    "## Important Notes/Reminders  <a id='reminders'> </a>\n",
    " -  AWS summary due 11:59PM\n",
    " -  HW8 Due tomorrow at 11:59PM\n",
    " -  Part 2 - progress report due Fri., Nov. 22nd\n",
    " -  Friday, DMD, no class. "
   ]
  },
  {
   "cell_type": "markdown",
   "metadata": {},
   "source": [
    "## Object-oriented Programming  <a id='oop'> </a>"
   ]
  },
  {
   "cell_type": "markdown",
   "metadata": {},
   "source": [
    "Last time, we focused on methods (or functions in class definitions) and the `__init__` method. Recall that the <b> init method (short for “initialization”) </b> is a special method that gets invoked when an object is instantiated. Its full name is `__init__` (two underscore characters, followed by init, and then two more underscores). An init method for the Time class might look like this:"
   ]
  },
  {
   "cell_type": "code",
   "execution_count": 3,
   "metadata": {},
   "outputs": [],
   "source": [
    "class Time:\n",
    "    \"\"\"Represents the time of day.\n",
    "    attributes: hour, minute, second\n",
    "    \"\"\"\n",
    "    def __init__(self, hour=0, minute=0, second=0):\n",
    "        # assign self.hour as hour (passed in)\n",
    "        self.hour = hour\n",
    "        self.minute = minute\n",
    "        self.second = second\n",
    "    \n",
    "    def print_time(self):\n",
    "        print('%.2d:%.2d:%.2d' % (self.hour, self.minute, self.second))"
   ]
  },
  {
   "cell_type": "markdown",
   "metadata": {},
   "source": [
    "This allowed us to instantiate objects as "
   ]
  },
  {
   "cell_type": "code",
   "execution_count": 4,
   "metadata": {},
   "outputs": [],
   "source": [
    "start = Time(3,2,11)"
   ]
  },
  {
   "cell_type": "markdown",
   "metadata": {},
   "source": [
    "with associated method"
   ]
  },
  {
   "cell_type": "code",
   "execution_count": 5,
   "metadata": {},
   "outputs": [
    {
     "name": "stdout",
     "output_type": "stream",
     "text": [
      "03:02:11\n"
     ]
    }
   ],
   "source": [
    "start.print_time()"
   ]
  },
  {
   "cell_type": "markdown",
   "metadata": {},
   "source": [
    "## The `__str__` method <a id='str'> </a>"
   ]
  },
  {
   "cell_type": "markdown",
   "metadata": {},
   "source": [
    "`__str__` is a special method, like `__init__` , that is supposed to return a string representation of an object. For example, "
   ]
  },
  {
   "cell_type": "code",
   "execution_count": 33,
   "metadata": {},
   "outputs": [],
   "source": [
    "class Time:\n",
    "    \"\"\"Represents the time of day.\n",
    "    attributes: hour, minute, second\n",
    "    \"\"\"\n",
    "    def __init__(self, hour=0, minute=0, second=0):\n",
    "        # assign self.hour as hour (passed in)\n",
    "        self.hour = hour\n",
    "        self.minute = minute\n",
    "        self.second = second\n",
    "    \n",
    "    def __str__(self):\n",
    "        return '%.2d:%.2d:%.2d' % (self.hour, self.minute, self.second)\n",
    "    \n",
    "    # let's also add time_to_int and int_to_time as methods here\n",
    "    def time_to_int(self):\n",
    "        # given a time object, 1) convert minutes to seconds\n",
    "        minutes = self.hour * 60 + self.minute\n",
    "        # 2) convert minutes to seconds\n",
    "        seconds = minutes * 60 + self.second\n",
    "        return seconds\n",
    "    \n",
    "    def __add__(self, other):\n",
    "        seconds = self.time_to_int() + other.time_to_int()\n",
    "        return Time.int_to_time(seconds)\n",
    "    \n",
    "    def int_to_time(seconds):\n",
    "        # create an instance of a time object\n",
    "        time = Time()\n",
    "        # take seconds and output minutes (mod 60) and remainder (seconds)\n",
    "        minutes, time.second = divmod(seconds, 60)\n",
    "        # take minutes, divide by 60, return the hour and remainder (min.)\n",
    "        time.hour, time.minute = divmod(minutes, 60)\n",
    "        return time"
   ]
  },
  {
   "cell_type": "code",
   "execution_count": 34,
   "metadata": {},
   "outputs": [
    {
     "name": "stdout",
     "output_type": "stream",
     "text": [
      "10:31:45\n"
     ]
    }
   ],
   "source": [
    "mytime = Time(9,1)\n",
    "duration = Time(1,30,45)\n",
    "print(mytime + duration)"
   ]
  },
  {
   "cell_type": "code",
   "execution_count": 32,
   "metadata": {},
   "outputs": [
    {
     "name": "stdout",
     "output_type": "stream",
     "text": [
      "10:31:45\n"
     ]
    }
   ],
   "source": [
    "# print(mytime)\n",
    "after = int_to_time(mytime + duration)\n",
    "print(after)"
   ]
  },
  {
   "cell_type": "code",
   "execution_count": 26,
   "metadata": {},
   "outputs": [
    {
     "data": {
      "text/plain": [
       "<__main__.Time at 0x1a17975550>"
      ]
     },
     "execution_count": 26,
     "metadata": {},
     "output_type": "execute_result"
    }
   ],
   "source": [
    "mytime"
   ]
  },
  {
   "cell_type": "markdown",
   "metadata": {},
   "source": [
    "<b> Note: </b> when you print an object, Python invokes the `str` method:"
   ]
  },
  {
   "cell_type": "code",
   "execution_count": 28,
   "metadata": {},
   "outputs": [],
   "source": [
    "def int_to_time(seconds):\n",
    "        # create an instance of a time object\n",
    "        time = Time()\n",
    "        # take seconds and output minutes (mod 60) and remainder (seconds)\n",
    "        minutes, time.second = divmod(seconds, 60)\n",
    "        # take minutes, divide by 60, return the hour and remainder (min.)\n",
    "        time.hour, time.minute = divmod(minutes, 60)\n",
    "        return time"
   ]
  },
  {
   "cell_type": "markdown",
   "metadata": {},
   "source": [
    "<b> Practice! </b> Write a `str` method for the Point class. Create a Point object and print it."
   ]
  },
  {
   "cell_type": "markdown",
   "metadata": {},
   "source": [
    "## Operator Overloading <a id='opover'> </a>"
   ]
  },
  {
   "cell_type": "markdown",
   "metadata": {},
   "source": [
    "By defining other special methods, you can specify the behavior of operators on\n",
    "programmer-defined types. Let's do so with the `__add__` method."
   ]
  },
  {
   "cell_type": "code",
   "execution_count": null,
   "metadata": {},
   "outputs": [],
   "source": []
  },
  {
   "cell_type": "markdown",
   "metadata": {},
   "source": [
    "Changing the behavior of an operator so it works with classes is called <b> operator overloading.</b> For every operator in Python, there's a corresponding special method. See <a href=\"http://docs.python.org/3/reference/datamodel.html#specialnames\">here</a> (Section 3.3.8) for more details."
   ]
  },
  {
   "cell_type": "code",
   "execution_count": null,
   "metadata": {},
   "outputs": [],
   "source": []
  },
  {
   "cell_type": "markdown",
   "metadata": {},
   "source": [
    "<b> Practice! </b> \n",
    "- Write an `add` method for the Point class.\n",
    "- For either the Time or Point class, write 2 methods that are examples of <b> operator overloading </b> (you may not use the subtract method)\n",
    "- Modify your `add` method for the Point class that checks if the second argument is indeed a Point. If it is not a point, how do you think you would change your `add` method?"
   ]
  },
  {
   "cell_type": "code",
   "execution_count": null,
   "metadata": {},
   "outputs": [],
   "source": []
  }
 ],
 "metadata": {
  "kernelspec": {
   "display_name": "Python 3",
   "language": "python",
   "name": "python3"
  },
  "language_info": {
   "codemirror_mode": {
    "name": "ipython",
    "version": 3
   },
   "file_extension": ".py",
   "mimetype": "text/x-python",
   "name": "python",
   "nbconvert_exporter": "python",
   "pygments_lexer": "ipython3",
   "version": "3.7.3"
  }
 },
 "nbformat": 4,
 "nbformat_minor": 2
}
