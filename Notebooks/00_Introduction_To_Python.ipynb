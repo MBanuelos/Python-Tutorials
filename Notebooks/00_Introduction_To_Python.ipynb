{
 "cells": [
  {
   "cell_type": "markdown",
   "metadata": {},
   "source": [
    "# Welcome to Jupyter Notebooks and Python!"
   ]
  },
  {
   "cell_type": "markdown",
   "metadata": {},
   "source": [
    "Jupyter notebooks (formerly IPython Notebooks) are frameworks to write reports, prototype code, and make presentations. Jupyter can run different kernels (i.e. programming languages) like C++, Julia, R, etc. For the rest of this tutorial, we focus on using Python 3.6.*"
   ]
  },
  {
   "cell_type": "markdown",
   "metadata": {},
   "source": [
    "# Outline\n",
    "\n",
    "* [Best practices](#best-practices)\n",
    "* [Overview](#overview)\n",
    " * [LaTeX](#latex)\n",
    "* [Importing Packages/Built-In Functions](#import-builtin)\n",
    "* [Python Data Structures](#data-structures)\n",
    " * [Variables](#variables)\n",
    " * [Lists & Strings](#lists-strings)\n",
    "* [Conditional Statements](#conditional)"
   ]
  },
  {
   "cell_type": "markdown",
   "metadata": {},
   "source": [
    "# As in all things, it takes practice, patience, and passion."
   ]
  },
  {
   "cell_type": "code",
   "execution_count": null,
   "metadata": {},
   "outputs": [],
   "source": [
    "#from IPython.display import Video\n",
    "from IPython.display import HTML\n",
    "\n",
    "HTML(\"\"\"\n",
    "<video width=\"640\" height=\"480\" controls>\n",
    "  <source src=\"howtocode.mp4\" type=\"video/mp4\">\n",
    "</video>\n",
    "\"\"\")"
   ]
  },
  {
   "cell_type": "markdown",
   "metadata": {},
   "source": [
    "## Best practices <a id=\"best-practices\"></a>\n",
    "\n",
    "1) For coding environments, provide detailed comments for interpretability and reproducibility. This will also help the future you when you come back to past assignments/code.\n",
    "\n",
    "2) Read the error message when your code does not work. They contain important information on how to debug your code.\n",
    "\n",
    "3) If you do something more than twice, automate that action.\n",
    "\n",
    "4) Write code that works first, then optimize! \n",
    "\n",
    "5) Notebooks can be split if they get too long. You want to be able to come back to a notebook without too much trouble and searching."
   ]
  },
  {
   "cell_type": "markdown",
   "metadata": {},
   "source": [
    "# Python Overview <a id=\"overview\"></a>"
   ]
  },
  {
   "cell_type": "markdown",
   "metadata": {},
   "source": [
    "Python is a dynamic, interpreted language. Variables do not need to be declared and the code does not need to be compiled. In short, the Python interpreter will attempt to make sense of your code and will raise an error if something goes wrong.\n",
    "\n",
    "In Python, comments in code start with a #. In Jupyter notebooks, you also have the option of making it cell a Markdown cell."
   ]
  },
  {
   "cell_type": "markdown",
   "metadata": {},
   "source": [
    "<b> Practice! </b> Below, try making\n",
    "- a comment cell\n",
    "- a Markdown cell"
   ]
  },
  {
   "cell_type": "markdown",
   "metadata": {},
   "source": [
    "I can start typing"
   ]
  },
  {
   "cell_type": "code",
   "execution_count": null,
   "metadata": {},
   "outputs": [],
   "source": [
    "# this is my first comment. I'm going to add some numbers\n",
    "3 + 4"
   ]
  },
  {
   "cell_type": "markdown",
   "metadata": {},
   "source": [
    "### $\\LaTeX$  input <a id=\"latex\"></a>"
   ]
  },
  {
   "cell_type": "markdown",
   "metadata": {},
   "source": [
    "Markdown cells also support $\\LaTeX$ input with either $ or \\begin{equation}"
   ]
  },
  {
   "cell_type": "markdown",
   "metadata": {},
   "source": [
    "<b> Practice! </b> Create a Markdown cell with $\\LaTeX$!"
   ]
  },
  {
   "cell_type": "markdown",
   "metadata": {},
   "source": [
    "For example, $f(x) = x^2$."
   ]
  },
  {
   "cell_type": "code",
   "execution_count": null,
   "metadata": {},
   "outputs": [],
   "source": [
    "type(2)"
   ]
  },
  {
   "cell_type": "code",
   "execution_count": null,
   "metadata": {},
   "outputs": [],
   "source": [
    "type(42.0)"
   ]
  },
  {
   "cell_type": "code",
   "execution_count": null,
   "metadata": {},
   "outputs": [],
   "source": [
    "type('hello world')"
   ]
  },
  {
   "cell_type": "markdown",
   "metadata": {},
   "source": [
    "These values belong to different types: 2 is an integer, 42.0 is a floating-point number, and 'Hello, World!' is a string, so-called because the letters it contains are strung together."
   ]
  },
  {
   "cell_type": "markdown",
   "metadata": {},
   "source": [
    "Some random/built-in functions are\n",
    "\n",
    "- abs()\n",
    "- help()\n",
    "- print()"
   ]
  },
  {
   "cell_type": "code",
   "execution_count": null,
   "metadata": {},
   "outputs": [],
   "source": [
    "help(abs)"
   ]
  },
  {
   "cell_type": "markdown",
   "metadata": {},
   "source": [
    "<b> Practice! </b> What happens if you try $\\texttt{ print(abs(-100)) + 100}$?"
   ]
  },
  {
   "cell_type": "code",
   "execution_count": null,
   "metadata": {},
   "outputs": [],
   "source": [
    "type(print(abs(-100)))"
   ]
  },
  {
   "cell_type": "code",
   "execution_count": null,
   "metadata": {},
   "outputs": [],
   "source": [
    "type(100 + 2.0)"
   ]
  },
  {
   "cell_type": "markdown",
   "metadata": {},
   "source": [
    "## Importing Packages & Built-In Functions <a id=\"import-builtin\"></a>"
   ]
  },
  {
   "cell_type": "code",
   "execution_count": null,
   "metadata": {},
   "outputs": [],
   "source": [
    "# import ... imports packages and follows the structure \n",
    "# import [package name]\n",
    "import sys\n",
    "sys.version"
   ]
  },
  {
   "cell_type": "code",
   "execution_count": null,
   "metadata": {},
   "outputs": [],
   "source": [
    "# Jupyter notebooks also support tab completion\n",
    "sys.v"
   ]
  },
  {
   "cell_type": "markdown",
   "metadata": {},
   "source": [
    "## Python Data Structures <a id=\"data-structures\"></a>"
   ]
  },
  {
   "cell_type": "markdown",
   "metadata": {},
   "source": [
    "### Variables <a id=\"variables\"></a>\n",
    "\n",
    "Variables, just as in mathematics, are placeholders for values assigned to them. Functions, on the other hand, take input (like variables) and output the result of applying certain rules to the input."
   ]
  },
  {
   "cell_type": "code",
   "execution_count": null,
   "metadata": {},
   "outputs": [],
   "source": [
    "# Define two variables and add them"
   ]
  },
  {
   "cell_type": "code",
   "execution_count": null,
   "metadata": {},
   "outputs": [],
   "source": [
    "# Using variables as input to a function\n",
    "help(sum)"
   ]
  },
  {
   "cell_type": "code",
   "execution_count": null,
   "metadata": {},
   "outputs": [],
   "source": [
    "# Multiply two variables, and save as another variable\n",
    "a = 2\n",
    "b = 3 \n",
    "a * b"
   ]
  },
  {
   "cell_type": "code",
   "execution_count": null,
   "metadata": {},
   "outputs": [],
   "source": [
    "c"
   ]
  },
  {
   "cell_type": "code",
   "execution_count": null,
   "metadata": {},
   "outputs": [],
   "source": [
    "# Raise one variable to the power of another variable\n",
    "# pow(2,3)\n",
    "2 ** 3"
   ]
  },
  {
   "cell_type": "code",
   "execution_count": null,
   "metadata": {},
   "outputs": [],
   "source": [
    "# Compare two variables\n",
    "a > b\n",
    "a < b \n",
    "a == b"
   ]
  },
  {
   "cell_type": "code",
   "execution_count": null,
   "metadata": {},
   "outputs": [],
   "source": [
    "# division\n",
    "print(4 / 3) # / performs division\n",
    "# remainders # % outputs remainder when dividing by second number\n",
    "print(4 % 3)"
   ]
  },
  {
   "cell_type": "markdown",
   "metadata": {},
   "source": [
    "<b> Practice! </b> Create three variables and practice adding, multiplying, dividing, etc."
   ]
  },
  {
   "cell_type": "code",
   "execution_count": null,
   "metadata": {},
   "outputs": [],
   "source": [
    "type(2)"
   ]
  },
  {
   "cell_type": "code",
   "execution_count": null,
   "metadata": {},
   "outputs": [],
   "source": [
    "type(.1)"
   ]
  },
  {
   "cell_type": "code",
   "execution_count": null,
   "metadata": {},
   "outputs": [],
   "source": [
    ".1 + .3000000000000001"
   ]
  },
  {
   "cell_type": "markdown",
   "metadata": {},
   "source": [
    "### Lists and strings <a id=\"lists-strings\"></a>\n",
    "\n",
    "We now shift our focus to other data structures, lists and strings. Strings, lists, and tuples are all sequence types are ordered collection of objects. Lists are enclosed in square brackets ([ and ]) and tuples in parentheses (( and )).\n",
    "\n",
    "Lists are <i> mutable (can be changed) and tuples are immutable (cannot be changed) </i>.\n",
    "\n",
    "<b> ** NOTE: </b> Python is 0-indexed, so keep this in mind when writing loops, accessing elements, etc."
   ]
  },
  {
   "cell_type": "code",
   "execution_count": null,
   "metadata": {},
   "outputs": [],
   "source": [
    "a = 'mystring'"
   ]
  },
  {
   "cell_type": "code",
   "execution_count": null,
   "metadata": {},
   "outputs": [],
   "source": [
    "print(a)"
   ]
  },
  {
   "cell_type": "code",
   "execution_count": null,
   "metadata": {},
   "outputs": [],
   "source": [
    "list_num = [1,2,3,4,5] # this is a list\n",
    "tup_num = (1,2,3,4,5) # this is a tuple"
   ]
  },
  {
   "cell_type": "code",
   "execution_count": null,
   "metadata": {},
   "outputs": [],
   "source": [
    "list_num * 4"
   ]
  },
  {
   "cell_type": "code",
   "execution_count": null,
   "metadata": {},
   "outputs": [],
   "source": [
    "# let's make a list of fruits\n",
    "fruits = ['apples', 'figs', 'oranges']\n",
    "fruits[1]"
   ]
  },
  {
   "cell_type": "code",
   "execution_count": null,
   "metadata": {},
   "outputs": [],
   "source": [
    "fruits.append('mango')\n",
    "print(fruits)"
   ]
  },
  {
   "cell_type": "code",
   "execution_count": null,
   "metadata": {},
   "outputs": [],
   "source": [
    "fruits.insert(1,'cherry')"
   ]
  },
  {
   "cell_type": "code",
   "execution_count": null,
   "metadata": {},
   "outputs": [],
   "source": [
    "fruits"
   ]
  },
  {
   "cell_type": "code",
   "execution_count": null,
   "metadata": {},
   "outputs": [],
   "source": [
    "# Functions have the following structure\n",
    "\n",
    "# def myfun(input):\n",
    "#       input operations\n",
    "#       return output"
   ]
  },
  {
   "cell_type": "code",
   "execution_count": null,
   "metadata": {},
   "outputs": [],
   "source": [
    "def sumfun(a,b):\n",
    "    return a+b"
   ]
  },
  {
   "cell_type": "code",
   "execution_count": null,
   "metadata": {},
   "outputs": [],
   "source": [
    "def sumfun2(a,b):\n",
    "    out = a + b\n",
    "    return out"
   ]
  },
  {
   "cell_type": "code",
   "execution_count": null,
   "metadata": {},
   "outputs": [],
   "source": [
    "sumfun(3,-1)\n",
    "sumfun2(3,-1)"
   ]
  },
  {
   "cell_type": "code",
   "execution_count": null,
   "metadata": {},
   "outputs": [],
   "source": [
    "def myname():\n",
    "    print('Hello Mario!')"
   ]
  },
  {
   "cell_type": "code",
   "execution_count": null,
   "metadata": {},
   "outputs": [],
   "source": [
    "myname()"
   ]
  },
  {
   "cell_type": "markdown",
   "metadata": {},
   "source": [
    "Try the following exercises on your own:\n",
    "\n",
    "1) Write a function that takes two inputs (a and b) and outputs a^b + b.\n",
    "\n",
    "2) Write a function that takes no inputs and prints \"Your code has finished!\""
   ]
  },
  {
   "cell_type": "code",
   "execution_count": null,
   "metadata": {},
   "outputs": [],
   "source": [
    "def mypow(a,b):\n",
    "    first_term = pow(a,b)\n",
    "    mysum = first_term + b\n",
    "    return mysum"
   ]
  },
  {
   "cell_type": "markdown",
   "metadata": {},
   "source": [
    "## Conditional statements  <a id=\"conditional\"></a>\n",
    "\n",
    "In python, you check conditions with an if statement"
   ]
  },
  {
   "cell_type": "code",
   "execution_count": null,
   "metadata": {},
   "outputs": [],
   "source": [
    "x = 5\n",
    "if x > 10: # the first condition checks if x is greater than 10\n",
    "    print(x)\n",
    "elif x < 3:\n",
    "    print(x+4)\n",
    "else: \n",
    "    print('x does not satisfy the conditions.')"
   ]
  },
  {
   "cell_type": "markdown",
   "metadata": {},
   "source": [
    "Recall that the Fibonacci numbers are of the form $$F_n = F_{n-1} + F_{n-2},$$\n",
    "where $F_0 = 0, F_1 = 1$.\n",
    "\n",
    "The first few numbers in the sequence are\n",
    "$$\n",
    "0,1,1,2,3,5,8,13,21,34,55\n",
    "$$"
   ]
  },
  {
   "cell_type": "code",
   "execution_count": null,
   "metadata": {},
   "outputs": [],
   "source": []
  },
  {
   "cell_type": "code",
   "execution_count": null,
   "metadata": {},
   "outputs": [],
   "source": [
    "x = 8\n",
    "\n",
    "def myfun(x):\n",
    "    if x > 10: # the first condition checks if x is greater than 10\n",
    "        print(x)\n",
    "    elif x < 3:\n",
    "        print(x+4)\n",
    "    else: \n",
    "        x = x + myfun(x) \n",
    "        print(x)\n",
    "        #print('x does not satisfy the conditions.')"
   ]
  },
  {
   "cell_type": "code",
   "execution_count": null,
   "metadata": {},
   "outputs": [],
   "source": [
    "myfun(x)"
   ]
  },
  {
   "cell_type": "code",
   "execution_count": null,
   "metadata": {},
   "outputs": [],
   "source": []
  }
 ],
 "metadata": {
  "kernelspec": {
   "display_name": "Python 3",
   "language": "python",
   "name": "python3"
  },
  "language_info": {
   "codemirror_mode": {
    "name": "ipython",
    "version": 3
   },
   "file_extension": ".py",
   "mimetype": "text/x-python",
   "name": "python",
   "nbconvert_exporter": "python",
   "pygments_lexer": "ipython3",
   "version": "3.7.4"
  }
 },
 "nbformat": 4,
 "nbformat_minor": 2
}
